{
 "cells": [
  {
   "cell_type": "code",
   "execution_count": 1,
   "metadata": {},
   "outputs": [],
   "source": [
    "import pandas as pd"
   ]
  },
  {
   "cell_type": "code",
   "execution_count": 3,
   "metadata": {},
   "outputs": [
    {
     "data": {
      "text/html": [
       "<div>\n",
       "<style scoped>\n",
       "    .dataframe tbody tr th:only-of-type {\n",
       "        vertical-align: middle;\n",
       "    }\n",
       "\n",
       "    .dataframe tbody tr th {\n",
       "        vertical-align: top;\n",
       "    }\n",
       "\n",
       "    .dataframe thead th {\n",
       "        text-align: right;\n",
       "    }\n",
       "</style>\n",
       "<table border=\"1\" class=\"dataframe\">\n",
       "  <thead>\n",
       "    <tr style=\"text-align: right;\">\n",
       "      <th></th>\n",
       "      <th>order_id</th>\n",
       "      <th>accepted_at</th>\n",
       "      <th>product_id</th>\n",
       "      <th>quantity</th>\n",
       "      <th>regular_price</th>\n",
       "      <th>price</th>\n",
       "      <th>cost_price</th>\n",
       "    </tr>\n",
       "  </thead>\n",
       "  <tbody>\n",
       "    <tr>\n",
       "      <th>0</th>\n",
       "      <td>1517514900</td>\n",
       "      <td>2022-01-13 16:48:19</td>\n",
       "      <td>17122</td>\n",
       "      <td>1</td>\n",
       "      <td>169</td>\n",
       "      <td>169</td>\n",
       "      <td>74</td>\n",
       "    </tr>\n",
       "    <tr>\n",
       "      <th>1</th>\n",
       "      <td>1517430051</td>\n",
       "      <td>2022-01-13 16:46:53</td>\n",
       "      <td>17122</td>\n",
       "      <td>1</td>\n",
       "      <td>169</td>\n",
       "      <td>169</td>\n",
       "      <td>74</td>\n",
       "    </tr>\n",
       "    <tr>\n",
       "      <th>2</th>\n",
       "      <td>1517578174</td>\n",
       "      <td>2022-01-13 18:12:30</td>\n",
       "      <td>17122</td>\n",
       "      <td>1</td>\n",
       "      <td>169</td>\n",
       "      <td>169</td>\n",
       "      <td>74</td>\n",
       "    </tr>\n",
       "  </tbody>\n",
       "</table>\n",
       "</div>"
      ],
      "text/plain": [
       "     order_id         accepted_at  product_id  quantity  regular_price  price  \\\n",
       "0  1517514900 2022-01-13 16:48:19       17122         1            169    169   \n",
       "1  1517430051 2022-01-13 16:46:53       17122         1            169    169   \n",
       "2  1517578174 2022-01-13 18:12:30       17122         1            169    169   \n",
       "\n",
       "   cost_price  \n",
       "0          74  \n",
       "1          74  \n",
       "2          74  "
      ]
     },
     "execution_count": 3,
     "metadata": {},
     "output_type": "execute_result"
    }
   ],
   "source": [
    "orders = pd.read_excel(\"orders.xlsx\")"
   ]
  },
  {
   "cell_type": "code",
   "execution_count": 5,
   "metadata": {},
   "outputs": [
    {
     "data": {
      "text/html": [
       "<div>\n",
       "<style scoped>\n",
       "    .dataframe tbody tr th:only-of-type {\n",
       "        vertical-align: middle;\n",
       "    }\n",
       "\n",
       "    .dataframe tbody tr th {\n",
       "        vertical-align: top;\n",
       "    }\n",
       "\n",
       "    .dataframe thead th {\n",
       "        text-align: right;\n",
       "    }\n",
       "</style>\n",
       "<table border=\"1\" class=\"dataframe\">\n",
       "  <thead>\n",
       "    <tr style=\"text-align: right;\">\n",
       "      <th></th>\n",
       "      <th>product_id</th>\n",
       "      <th>level1</th>\n",
       "      <th>level2</th>\n",
       "      <th>name</th>\n",
       "    </tr>\n",
       "  </thead>\n",
       "  <tbody>\n",
       "    <tr>\n",
       "      <th>0</th>\n",
       "      <td>1</td>\n",
       "      <td>Гигиена</td>\n",
       "      <td>Бритье</td>\n",
       "      <td>Кассеты для бритья Gillette Fusion ProGlide Po...</td>\n",
       "    </tr>\n",
       "    <tr>\n",
       "      <th>1</th>\n",
       "      <td>2</td>\n",
       "      <td>Мучные кондитерские изделия</td>\n",
       "      <td>Мучные кондитерские изделия</td>\n",
       "      <td>Печенье Бодрость</td>\n",
       "    </tr>\n",
       "    <tr>\n",
       "      <th>2</th>\n",
       "      <td>3</td>\n",
       "      <td>Мясная гастрономия</td>\n",
       "      <td>Сосиски, сардельки</td>\n",
       "      <td>Сосиски Стародворье</td>\n",
       "    </tr>\n",
       "  </tbody>\n",
       "</table>\n",
       "</div>"
      ],
      "text/plain": [
       "   product_id                       level1                       level2  \\\n",
       "0           1                      Гигиена                       Бритье   \n",
       "1           2  Мучные кондитерские изделия  Мучные кондитерские изделия   \n",
       "2           3           Мясная гастрономия           Сосиски, сардельки   \n",
       "\n",
       "                                                name  \n",
       "0  Кассеты для бритья Gillette Fusion ProGlide Po...  \n",
       "1                                  Печенье Бодрость   \n",
       "2                               Сосиски Стародворье   "
      ]
     },
     "execution_count": 5,
     "metadata": {},
     "output_type": "execute_result"
    }
   ],
   "source": [
    "products = pd.read_excel(\"products.xlsx\")"
   ]
  },
  {
   "cell_type": "markdown",
   "metadata": {},
   "source": [
    "Описание данных\n",
    "Таблица products:\n",
    "\n",
    "product_id - id товара\n",
    "level1 - категория\n",
    "level2 - подкатегория\n",
    "name - наименование товара\n",
    "Таблица orders:\n",
    "\n",
    "order_id - номер чека\n",
    "accepted_at - дата и время чека\n",
    "product_id - id товара\n",
    "quantity - кол-во товара в чеке\n",
    "regular_price - регулярная цена\n",
    "price - текущая цена\n",
    "cost_price - закупочная цена"
   ]
  },
  {
   "cell_type": "markdown",
   "metadata": {},
   "source": [
    "1"
   ]
  },
  {
   "cell_type": "markdown",
   "metadata": {},
   "source": [
    "Самая ходовая товарная группа\n",
    "По какой категории товаров продано больше всего позиций?\n",
    "\n",
    "Подкрепите свой ответ таблицей, в которой рассчитано количество проданных штук товара в каждой товарной категории.\n",
    "Дополнительно постройте на основании этой таблицы barchart.\n",
    "Проверьте, чтобы все подписи на вашем графике выглядели читаемо и понятно. Этот график должен быть сходу понятен стороннему наблюдателю."
   ]
  },
  {
   "cell_type": "code",
   "execution_count": null,
   "metadata": {},
   "outputs": [],
   "source": []
  }
 ],
 "metadata": {
  "kernelspec": {
   "display_name": "pand_venv",
   "language": "python",
   "name": "python3"
  },
  "language_info": {
   "codemirror_mode": {
    "name": "ipython",
    "version": 3
   },
   "file_extension": ".py",
   "mimetype": "text/x-python",
   "name": "python",
   "nbconvert_exporter": "python",
   "pygments_lexer": "ipython3",
   "version": "3.12.0"
  }
 },
 "nbformat": 4,
 "nbformat_minor": 2
}
